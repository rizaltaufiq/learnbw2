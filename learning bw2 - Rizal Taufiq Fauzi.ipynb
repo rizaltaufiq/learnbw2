{
 "cells": [
  {
   "cell_type": "markdown",
   "metadata": {},
   "source": [
    "# Basic"
   ]
  },
  {
   "cell_type": "code",
   "execution_count": 1,
   "metadata": {},
   "outputs": [],
   "source": [
    "import pandas as pd\n",
    "import numpy as np\n",
    "import brightway2 as bw\n",
    "from lci_to_bw2 import *"
   ]
  },
  {
   "cell_type": "code",
   "execution_count": 2,
   "metadata": {},
   "outputs": [
    {
     "data": {
      "text/plain": [
       "[Project: default,\n",
       " Project: advlca20,\n",
       " Project: learning1,\n",
       " Project: learning2,\n",
       " Project: learning3,\n",
       " Project: bw2_with_Rizal,\n",
       " Project: bw2_Rizal]"
      ]
     },
     "execution_count": 2,
     "metadata": {},
     "output_type": "execute_result"
    }
   ],
   "source": [
    "list(bw.projects)"
   ]
  },
  {
   "cell_type": "code",
   "execution_count": 3,
   "metadata": {},
   "outputs": [
    {
     "data": {
      "text/plain": [
       "[Project: default,\n",
       " Project: advlca20,\n",
       " Project: learning1,\n",
       " Project: learning2,\n",
       " Project: learning3,\n",
       " Project: bw2_with_Rizal,\n",
       " Project: bw2_Rizal]"
      ]
     },
     "execution_count": 3,
     "metadata": {},
     "output_type": "execute_result"
    }
   ],
   "source": [
    "list(bw.projects)"
   ]
  },
  {
   "cell_type": "code",
   "execution_count": 4,
   "metadata": {},
   "outputs": [],
   "source": [
    "bw.projects.set_current('bw2_Rizal')"
   ]
  },
  {
   "cell_type": "code",
   "execution_count": 5,
   "metadata": {},
   "outputs": [
    {
     "data": {
      "text/plain": [
       "Databases dictionary with 3 object(s):\n",
       "\tbiosphere3\n",
       "\tecoinvent 3.6 conseq\n",
       "\texldb"
      ]
     },
     "execution_count": 5,
     "metadata": {},
     "output_type": "execute_result"
    }
   ],
   "source": [
    "bw.databases"
   ]
  },
  {
   "cell_type": "code",
   "execution_count": 6,
   "metadata": {},
   "outputs": [
    {
     "name": "stdout",
     "output_type": "stream",
     "text": [
      "Biosphere database already present!!! No setup is needed\n"
     ]
    }
   ],
   "source": [
    "bw.bw2setup()"
   ]
  },
  {
   "cell_type": "code",
   "execution_count": 7,
   "metadata": {},
   "outputs": [
    {
     "name": "stdout",
     "output_type": "stream",
     "text": [
      "Biosphere database already present!!! No setup is needed\n"
     ]
    }
   ],
   "source": [
    "bw.bw2setup()"
   ]
  },
  {
   "cell_type": "code",
   "execution_count": 8,
   "metadata": {},
   "outputs": [
    {
     "data": {
      "text/plain": [
       "Databases dictionary with 3 object(s):\n",
       "\tbiosphere3\n",
       "\tecoinvent 3.6 conseq\n",
       "\texldb"
      ]
     },
     "execution_count": 8,
     "metadata": {},
     "output_type": "execute_result"
    }
   ],
   "source": [
    "bw.databases"
   ]
  },
  {
   "cell_type": "code",
   "execution_count": 9,
   "metadata": {},
   "outputs": [
    {
     "data": {
      "text/plain": [
       "Databases dictionary with 3 object(s):\n",
       "\tbiosphere3\n",
       "\tecoinvent 3.6 conseq\n",
       "\texldb"
      ]
     },
     "execution_count": 9,
     "metadata": {},
     "output_type": "execute_result"
    }
   ],
   "source": [
    "bw.projects.set_current('bw2_Rizal') # Find a project where there is ecoinvent 3.6 conseq\n",
    "bw.databases"
   ]
  },
  {
   "cell_type": "markdown",
   "metadata": {},
   "source": [
    "# How to import database"
   ]
  },
  {
   "cell_type": "code",
   "execution_count": 10,
   "metadata": {},
   "outputs": [
    {
     "name": "stdout",
     "output_type": "stream",
     "text": [
      "Database has already been imported\n"
     ]
    },
    {
     "ename": "NameError",
     "evalue": "name 'ei36' is not defined",
     "output_type": "error",
     "traceback": [
      "\u001b[0;31m---------------------------------------------------------------------------\u001b[0m",
      "\u001b[0;31mNameError\u001b[0m                                 Traceback (most recent call last)",
      "\u001b[0;32m<ipython-input-10-8dfd8af2c927>\u001b[0m in \u001b[0;36m<module>\u001b[0;34m\u001b[0m\n\u001b[1;32m     12\u001b[0m \u001b[0;34m\u001b[0m\u001b[0m\n\u001b[1;32m     13\u001b[0m \u001b[0;34m\u001b[0m\u001b[0m\n\u001b[0;32m---> 14\u001b[0;31m \u001b[0mei36\u001b[0m\u001b[0;34m.\u001b[0m\u001b[0mwrite_database\u001b[0m\u001b[0;34m(\u001b[0m\u001b[0;34m)\u001b[0m \u001b[0;31m# This will take some time.\u001b[0m\u001b[0;34m\u001b[0m\u001b[0;34m\u001b[0m\u001b[0m\n\u001b[0m",
      "\u001b[0;31mNameError\u001b[0m: name 'ei36' is not defined"
     ]
    }
   ],
   "source": [
    "# Import ecoinvent\n",
    "\n",
    "# You need to chenge the line below with the directory where you have saved ecoinvent\n",
    "ei36dir = \"/Users/rizal/Downloads/ecoinvent 3.6_consequential_ecoSpold02/datasets\"\n",
    "\n",
    "if 'ecoinvent 3.6 conseq' in bw.databases:\n",
    "    print(\"Database has already been imported\")\n",
    "else:\n",
    "    ei36 = bw.SingleOutputEcospold2Importer(ei36dir, 'ecoinvent 3.6 conseq') # You can give it another name of course\n",
    "    ei36.apply_strategies()\n",
    "    ei36.statistics()\n",
    "\n",
    "\n",
    "ei36.write_database() # This will take some time."
   ]
  },
  {
   "cell_type": "code",
   "execution_count": null,
   "metadata": {},
   "outputs": [],
   "source": [
    "bw.databases"
   ]
  },
  {
   "cell_type": "code",
   "execution_count": 11,
   "metadata": {},
   "outputs": [],
   "source": [
    "activity_name = 'sand'"
   ]
  },
  {
   "cell_type": "code",
   "execution_count": 12,
   "metadata": {},
   "outputs": [
    {
     "name": "stdout",
     "output_type": "stream",
     "text": [
      "'market for sand' (kilogram, BR, None)\n",
      "cc9f26d341597af3c863f00dc0d42d53\n",
      "'market for sand' (kilogram, CH, None)\n",
      "90b65e13ce4cacc42dac372dd476ec03\n",
      "'silica sand production' (kilogram, DE, None)\n",
      "175368ebe8dc8153011961ac2cdabe4f\n",
      "'silica sand production' (kilogram, RoW, None)\n",
      "8aa8d73f2a127bf9bcbaeb862b288579\n",
      "'gravel and sand quarry operation' (kilogram, RoW, None)\n",
      "7c65895fa3115af9ca7d329943158b31\n",
      "'gravel and sand quarry operation' (kilogram, CH, None)\n",
      "2b552a4b92fe02ac509a6e8d58748bae\n",
      "'market for sand' (kilogram, IN, None)\n",
      "473b3eb53e46eff603e86528fea8b633\n",
      "'market for sand' (kilogram, RoW, None)\n",
      "8bd3d9acd087ae0b13afb156b79f8386\n",
      "'sand quarry operation, extraction from river bed' (kilogram, IN, None)\n",
      "7a8606f877fe4f7264e49a5c69292f57\n",
      "'sand quarry operation, extraction from river bed' (kilogram, BR, None)\n",
      "cbccc2a2fbe316cf95a84f2429eae83f\n",
      "'sand quarry operation, open pit mine' (kilogram, BR, None)\n",
      "a99b8739ecdf2485b3041b12c46347d6\n",
      "'sand quarry operation, extraction from river bed' (kilogram, RoW, None)\n",
      "4c09ad813fc4f3e8274b79b2d5bfb09b\n",
      "'sand-lime brick production' (kilogram, DE, None)\n",
      "6ce13a1cb499d7cbb0a83961c2589514\n",
      "'market for waste foundry sand' (kilogram, GLO, None)\n",
      "b59379b90f9d81c3776914938bf045d4\n",
      "'market for silica sand' (kilogram, GLO, None)\n",
      "e38b556705c6bff94e644df3d2567726\n",
      "'gravel/sand quarry construction' (unit, CH, None)\n",
      "4f8ea916eb1be26527e5b94b545d2e22\n",
      "'gravel/sand quarry construction' (unit, RoW, None)\n",
      "3b649e2bf93c2b818f922fbc4ff0b771\n",
      "'sand-lime brick production' (kilogram, RoW, None)\n",
      "c2b7eeffdbd6e4223545dc96508cc5d7\n",
      "'market for sand-lime brick' (kilogram, GLO, None)\n",
      "6242b4eb006afa691a9ac93514a225b7\n",
      "'market for gravel/sand quarry infrastructure' (unit, GLO, None)\n",
      "320f1c17575af21cb07e9f0a9dc912af\n",
      "'gravel and sand quarry operation' (kilogram, RoW, None)\n",
      "2e16d48d03c5b291cf8837bf4d299580\n",
      "'gravel and sand quarry operation' (kilogram, CH, None)\n",
      "de6b50dd7fe9dc42ba07723df098ea7a\n",
      "'sand to generic market for inert filler' (kilogram, GLO, None)\n",
      "6a9aa2007605edb39e4f7fa7a78c1348\n",
      "'heavy mineral sand quarry operation and titania slag production' (kilogram, RoW, None)\n",
      "4711e8e94855dfa7169c09a222565491\n",
      "'heavy mineral sand quarry operation' (kilogram, RoW, None)\n",
      "ede7374fb864bb6e04edc828338327fa\n"
     ]
    }
   ],
   "source": [
    "for activity in bw.Database(\"ecoinvent 3.6 conseq\").search(activity_name):\n",
    "    print (activity)\n",
    "    print (activity['code'])\n",
    "    "
   ]
  },
  {
   "cell_type": "markdown",
   "metadata": {},
   "source": [
    "# How to import excel file"
   ]
  },
  {
   "cell_type": "code",
   "execution_count": 13,
   "metadata": {},
   "outputs": [
    {
     "data": {
      "text/html": [
       "<div>\n",
       "<style scoped>\n",
       "    .dataframe tbody tr th:only-of-type {\n",
       "        vertical-align: middle;\n",
       "    }\n",
       "\n",
       "    .dataframe tbody tr th {\n",
       "        vertical-align: top;\n",
       "    }\n",
       "\n",
       "    .dataframe thead th {\n",
       "        text-align: right;\n",
       "    }\n",
       "</style>\n",
       "<table border=\"1\" class=\"dataframe\">\n",
       "  <thead>\n",
       "    <tr style=\"text-align: right;\">\n",
       "      <th></th>\n",
       "      <th>Activity database</th>\n",
       "      <th>Activity code</th>\n",
       "      <th>Activity name</th>\n",
       "      <th>Activity unit</th>\n",
       "      <th>Activity type</th>\n",
       "      <th>Exchange database</th>\n",
       "      <th>Exchange input</th>\n",
       "      <th>Exchange amount</th>\n",
       "      <th>Exchange unit</th>\n",
       "      <th>Exchange type</th>\n",
       "      <th>Exchange uncertainty type</th>\n",
       "      <th>Exchange loc</th>\n",
       "      <th>Exchange scale</th>\n",
       "      <th>Exchange negative</th>\n",
       "      <th>Notes</th>\n",
       "    </tr>\n",
       "  </thead>\n",
       "  <tbody>\n",
       "    <tr>\n",
       "      <th>0</th>\n",
       "      <td>exldb</td>\n",
       "      <td>Precast concrete production</td>\n",
       "      <td>Precast concrete production</td>\n",
       "      <td>ton</td>\n",
       "      <td>process</td>\n",
       "      <td>exldb</td>\n",
       "      <td>Precast concrete production</td>\n",
       "      <td>1.0</td>\n",
       "      <td>ton</td>\n",
       "      <td>production</td>\n",
       "      <td>NaN</td>\n",
       "      <td>NaN</td>\n",
       "      <td>NaN</td>\n",
       "      <td>NaN</td>\n",
       "      <td>NaN</td>\n",
       "    </tr>\n",
       "    <tr>\n",
       "      <th>1</th>\n",
       "      <td>exldb</td>\n",
       "      <td>Precast concrete production</td>\n",
       "      <td>Precast concrete production</td>\n",
       "      <td>ton</td>\n",
       "      <td>process</td>\n",
       "      <td>ecoinvent 3.6 conseq</td>\n",
       "      <td>0a3b786bbd504c44b80c8ec48a53738d</td>\n",
       "      <td>168.5</td>\n",
       "      <td>kilogram</td>\n",
       "      <td>technosphere</td>\n",
       "      <td>NaN</td>\n",
       "      <td>NaN</td>\n",
       "      <td>NaN</td>\n",
       "      <td>NaN</td>\n",
       "      <td>market for cement, Portland (RoW)</td>\n",
       "    </tr>\n",
       "    <tr>\n",
       "      <th>2</th>\n",
       "      <td>exldb</td>\n",
       "      <td>Precast concrete production</td>\n",
       "      <td>Precast concrete production</td>\n",
       "      <td>ton</td>\n",
       "      <td>process</td>\n",
       "      <td>ecoinvent 3.6 conseq</td>\n",
       "      <td>3d316bddb5377fac9ceb37f0af9da8bf</td>\n",
       "      <td>7.0</td>\n",
       "      <td>kilogram</td>\n",
       "      <td>technosphere</td>\n",
       "      <td>NaN</td>\n",
       "      <td>NaN</td>\n",
       "      <td>NaN</td>\n",
       "      <td>NaN</td>\n",
       "      <td>market for limestone, crushed, for mill (RoW)</td>\n",
       "    </tr>\n",
       "    <tr>\n",
       "      <th>3</th>\n",
       "      <td>exldb</td>\n",
       "      <td>Precast concrete production</td>\n",
       "      <td>Precast concrete production</td>\n",
       "      <td>ton</td>\n",
       "      <td>process</td>\n",
       "      <td>ecoinvent 3.6 conseq</td>\n",
       "      <td>8bd3d9acd087ae0b13afb156b79f8386</td>\n",
       "      <td>357.7</td>\n",
       "      <td>kilogram</td>\n",
       "      <td>technosphere</td>\n",
       "      <td>NaN</td>\n",
       "      <td>NaN</td>\n",
       "      <td>NaN</td>\n",
       "      <td>NaN</td>\n",
       "      <td>market for sand (RoW)</td>\n",
       "    </tr>\n",
       "    <tr>\n",
       "      <th>4</th>\n",
       "      <td>exldb</td>\n",
       "      <td>Precast concrete production</td>\n",
       "      <td>Precast concrete production</td>\n",
       "      <td>ton</td>\n",
       "      <td>process</td>\n",
       "      <td>ecoinvent 3.6 conseq</td>\n",
       "      <td>e8142d32b9137b2dca06fe56792a690a</td>\n",
       "      <td>42.9</td>\n",
       "      <td>kilogram</td>\n",
       "      <td>technosphere</td>\n",
       "      <td>NaN</td>\n",
       "      <td>NaN</td>\n",
       "      <td>NaN</td>\n",
       "      <td>NaN</td>\n",
       "      <td>market for reinforcing steel (GLO)</td>\n",
       "    </tr>\n",
       "  </tbody>\n",
       "</table>\n",
       "</div>"
      ],
      "text/plain": [
       "  Activity database                Activity code                Activity name  \\\n",
       "0             exldb  Precast concrete production  Precast concrete production   \n",
       "1             exldb  Precast concrete production  Precast concrete production   \n",
       "2             exldb  Precast concrete production  Precast concrete production   \n",
       "3             exldb  Precast concrete production  Precast concrete production   \n",
       "4             exldb  Precast concrete production  Precast concrete production   \n",
       "\n",
       "  Activity unit Activity type     Exchange database  \\\n",
       "0           ton       process                 exldb   \n",
       "1           ton       process  ecoinvent 3.6 conseq   \n",
       "2           ton       process  ecoinvent 3.6 conseq   \n",
       "3           ton       process  ecoinvent 3.6 conseq   \n",
       "4           ton       process  ecoinvent 3.6 conseq   \n",
       "\n",
       "                     Exchange input  Exchange amount Exchange unit  \\\n",
       "0       Precast concrete production              1.0           ton   \n",
       "1  0a3b786bbd504c44b80c8ec48a53738d            168.5      kilogram   \n",
       "2  3d316bddb5377fac9ceb37f0af9da8bf              7.0      kilogram   \n",
       "3  8bd3d9acd087ae0b13afb156b79f8386            357.7      kilogram   \n",
       "4  e8142d32b9137b2dca06fe56792a690a             42.9      kilogram   \n",
       "\n",
       "  Exchange type  Exchange uncertainty type  Exchange loc  Exchange scale  \\\n",
       "0    production                        NaN           NaN             NaN   \n",
       "1  technosphere                        NaN           NaN             NaN   \n",
       "2  technosphere                        NaN           NaN             NaN   \n",
       "3  technosphere                        NaN           NaN             NaN   \n",
       "4  technosphere                        NaN           NaN             NaN   \n",
       "\n",
       "   Exchange negative                                          Notes  \n",
       "0                NaN                                            NaN  \n",
       "1                NaN              market for cement, Portland (RoW)  \n",
       "2                NaN  market for limestone, crushed, for mill (RoW)  \n",
       "3                NaN                          market for sand (RoW)  \n",
       "4                NaN             market for reinforcing steel (GLO)  "
      ]
     },
     "execution_count": 13,
     "metadata": {},
     "output_type": "execute_result"
    }
   ],
   "source": [
    "#importing excel file\n",
    "my_db = pd.read_csv('test_db_excel_w_ecoinvent (2).csv', header = 0, sep = \",\") # using csv file avoids encoding problem\n",
    "my_db.head()"
   ]
  },
  {
   "cell_type": "code",
   "execution_count": 14,
   "metadata": {},
   "outputs": [
    {
     "data": {
      "text/html": [
       "<div>\n",
       "<style scoped>\n",
       "    .dataframe tbody tr th:only-of-type {\n",
       "        vertical-align: middle;\n",
       "    }\n",
       "\n",
       "    .dataframe tbody tr th {\n",
       "        vertical-align: top;\n",
       "    }\n",
       "\n",
       "    .dataframe thead th {\n",
       "        text-align: right;\n",
       "    }\n",
       "</style>\n",
       "<table border=\"1\" class=\"dataframe\">\n",
       "  <thead>\n",
       "    <tr style=\"text-align: right;\">\n",
       "      <th></th>\n",
       "      <th>Activity database</th>\n",
       "      <th>Activity code</th>\n",
       "      <th>Activity name</th>\n",
       "      <th>Activity unit</th>\n",
       "      <th>Activity type</th>\n",
       "      <th>Exchange database</th>\n",
       "      <th>Exchange input</th>\n",
       "      <th>Exchange amount</th>\n",
       "      <th>Exchange unit</th>\n",
       "      <th>Exchange type</th>\n",
       "      <th>Exchange uncertainty type</th>\n",
       "      <th>Exchange loc</th>\n",
       "      <th>Exchange scale</th>\n",
       "      <th>Exchange negative</th>\n",
       "    </tr>\n",
       "  </thead>\n",
       "  <tbody>\n",
       "    <tr>\n",
       "      <th>0</th>\n",
       "      <td>exldb</td>\n",
       "      <td>Precast concrete production</td>\n",
       "      <td>Precast concrete production</td>\n",
       "      <td>ton</td>\n",
       "      <td>process</td>\n",
       "      <td>exldb</td>\n",
       "      <td>Precast concrete production</td>\n",
       "      <td>1.0</td>\n",
       "      <td>ton</td>\n",
       "      <td>production</td>\n",
       "      <td>0</td>\n",
       "      <td>NaN</td>\n",
       "      <td>NaN</td>\n",
       "      <td>NaN</td>\n",
       "    </tr>\n",
       "    <tr>\n",
       "      <th>1</th>\n",
       "      <td>exldb</td>\n",
       "      <td>Precast concrete production</td>\n",
       "      <td>Precast concrete production</td>\n",
       "      <td>ton</td>\n",
       "      <td>process</td>\n",
       "      <td>ecoinvent 3.6 conseq</td>\n",
       "      <td>0a3b786bbd504c44b80c8ec48a53738d</td>\n",
       "      <td>168.5</td>\n",
       "      <td>kilogram</td>\n",
       "      <td>technosphere</td>\n",
       "      <td>0</td>\n",
       "      <td>NaN</td>\n",
       "      <td>NaN</td>\n",
       "      <td>NaN</td>\n",
       "    </tr>\n",
       "    <tr>\n",
       "      <th>2</th>\n",
       "      <td>exldb</td>\n",
       "      <td>Precast concrete production</td>\n",
       "      <td>Precast concrete production</td>\n",
       "      <td>ton</td>\n",
       "      <td>process</td>\n",
       "      <td>ecoinvent 3.6 conseq</td>\n",
       "      <td>3d316bddb5377fac9ceb37f0af9da8bf</td>\n",
       "      <td>7.0</td>\n",
       "      <td>kilogram</td>\n",
       "      <td>technosphere</td>\n",
       "      <td>0</td>\n",
       "      <td>NaN</td>\n",
       "      <td>NaN</td>\n",
       "      <td>NaN</td>\n",
       "    </tr>\n",
       "    <tr>\n",
       "      <th>3</th>\n",
       "      <td>exldb</td>\n",
       "      <td>Precast concrete production</td>\n",
       "      <td>Precast concrete production</td>\n",
       "      <td>ton</td>\n",
       "      <td>process</td>\n",
       "      <td>ecoinvent 3.6 conseq</td>\n",
       "      <td>8bd3d9acd087ae0b13afb156b79f8386</td>\n",
       "      <td>357.7</td>\n",
       "      <td>kilogram</td>\n",
       "      <td>technosphere</td>\n",
       "      <td>0</td>\n",
       "      <td>NaN</td>\n",
       "      <td>NaN</td>\n",
       "      <td>NaN</td>\n",
       "    </tr>\n",
       "    <tr>\n",
       "      <th>4</th>\n",
       "      <td>exldb</td>\n",
       "      <td>Precast concrete production</td>\n",
       "      <td>Precast concrete production</td>\n",
       "      <td>ton</td>\n",
       "      <td>process</td>\n",
       "      <td>ecoinvent 3.6 conseq</td>\n",
       "      <td>e8142d32b9137b2dca06fe56792a690a</td>\n",
       "      <td>42.9</td>\n",
       "      <td>kilogram</td>\n",
       "      <td>technosphere</td>\n",
       "      <td>0</td>\n",
       "      <td>NaN</td>\n",
       "      <td>NaN</td>\n",
       "      <td>NaN</td>\n",
       "    </tr>\n",
       "  </tbody>\n",
       "</table>\n",
       "</div>"
      ],
      "text/plain": [
       "  Activity database                Activity code                Activity name  \\\n",
       "0             exldb  Precast concrete production  Precast concrete production   \n",
       "1             exldb  Precast concrete production  Precast concrete production   \n",
       "2             exldb  Precast concrete production  Precast concrete production   \n",
       "3             exldb  Precast concrete production  Precast concrete production   \n",
       "4             exldb  Precast concrete production  Precast concrete production   \n",
       "\n",
       "  Activity unit Activity type     Exchange database  \\\n",
       "0           ton       process                 exldb   \n",
       "1           ton       process  ecoinvent 3.6 conseq   \n",
       "2           ton       process  ecoinvent 3.6 conseq   \n",
       "3           ton       process  ecoinvent 3.6 conseq   \n",
       "4           ton       process  ecoinvent 3.6 conseq   \n",
       "\n",
       "                     Exchange input  Exchange amount Exchange unit  \\\n",
       "0       Precast concrete production              1.0           ton   \n",
       "1  0a3b786bbd504c44b80c8ec48a53738d            168.5      kilogram   \n",
       "2  3d316bddb5377fac9ceb37f0af9da8bf              7.0      kilogram   \n",
       "3  8bd3d9acd087ae0b13afb156b79f8386            357.7      kilogram   \n",
       "4  e8142d32b9137b2dca06fe56792a690a             42.9      kilogram   \n",
       "\n",
       "  Exchange type  Exchange uncertainty type  Exchange loc  Exchange scale  \\\n",
       "0    production                          0           NaN             NaN   \n",
       "1  technosphere                          0           NaN             NaN   \n",
       "2  technosphere                          0           NaN             NaN   \n",
       "3  technosphere                          0           NaN             NaN   \n",
       "4  technosphere                          0           NaN             NaN   \n",
       "\n",
       "   Exchange negative  \n",
       "0                NaN  \n",
       "1                NaN  \n",
       "2                NaN  \n",
       "3                NaN  \n",
       "4                NaN  "
      ]
     },
     "execution_count": 14,
     "metadata": {},
     "output_type": "execute_result"
    }
   ],
   "source": [
    "# clean up a bit\n",
    "my_db = my_db.drop('Notes', 1)  # remove the columns not needed\n",
    "my_db['Exchange uncertainty type'] = my_db['Exchange uncertainty type'].fillna(0).astype(int) # uncertainty as integers\n",
    "# Note: to avoid having both nan and values in the uncertainty column I use zero as default\n",
    "my_db.head()"
   ]
  },
  {
   "cell_type": "code",
   "execution_count": 15,
   "metadata": {},
   "outputs": [],
   "source": [
    "from lci_to_bw2 import *"
   ]
  },
  {
   "cell_type": "code",
   "execution_count": 16,
   "metadata": {},
   "outputs": [
    {
     "data": {
      "text/plain": [
       "{('exldb',\n",
       "  'Precast concrete production'): {'name': 'Precast concrete production', 'unit': 'ton', 'type': 'process', 'exchanges': [{'input': ('exldb',\n",
       "     'Precast concrete production'),\n",
       "    'amount': 1.0,\n",
       "    'unit': 'ton',\n",
       "    'type': 'production',\n",
       "    'uncertainty type': 0},\n",
       "   {'input': ('ecoinvent 3.6 conseq', '0a3b786bbd504c44b80c8ec48a53738d'),\n",
       "    'amount': 168.5,\n",
       "    'unit': 'kilogram',\n",
       "    'type': 'technosphere',\n",
       "    'uncertainty type': 0},\n",
       "   {'input': ('ecoinvent 3.6 conseq', '3d316bddb5377fac9ceb37f0af9da8bf'),\n",
       "    'amount': 7.0,\n",
       "    'unit': 'kilogram',\n",
       "    'type': 'technosphere',\n",
       "    'uncertainty type': 0},\n",
       "   {'input': ('ecoinvent 3.6 conseq', '8bd3d9acd087ae0b13afb156b79f8386'),\n",
       "    'amount': 357.7,\n",
       "    'unit': 'kilogram',\n",
       "    'type': 'technosphere',\n",
       "    'uncertainty type': 0},\n",
       "   {'input': ('ecoinvent 3.6 conseq', 'e8142d32b9137b2dca06fe56792a690a'),\n",
       "    'amount': 42.9,\n",
       "    'unit': 'kilogram',\n",
       "    'type': 'technosphere',\n",
       "    'uncertainty type': 0},\n",
       "   {'input': ('ecoinvent 3.6 conseq', '08f78f205f11d44e53a9d22f4d657999'),\n",
       "    'amount': 0.052386228,\n",
       "    'unit': 'kilogram',\n",
       "    'type': 'technosphere',\n",
       "    'uncertainty type': 0},\n",
       "   {'input': ('ecoinvent 3.6 conseq', '07201de55eef98e0ec6c701d0dc89ebf'),\n",
       "    'amount': 0.01061883,\n",
       "    'unit': 'kilogram',\n",
       "    'type': 'technosphere',\n",
       "    'uncertainty type': 0},\n",
       "   {'input': ('biosphere3', '238f8ea9-98df-41dc-ab93-ea5b549a0b96'),\n",
       "    'amount': -59.4,\n",
       "    'unit': 'kilogram',\n",
       "    'type': 'biosphere',\n",
       "    'uncertainty type': 0},\n",
       "   {'input': ('biosphere3', '2404b41a-2eed-4e9d-8ab6-783946fdf5d6'),\n",
       "    'amount': -0.3899,\n",
       "    'unit': 'cubic meter',\n",
       "    'type': 'biosphere',\n",
       "    'uncertainty type': 0}]}}"
      ]
     },
     "execution_count": 16,
     "metadata": {},
     "output_type": "execute_result"
    }
   ],
   "source": [
    "# Create a dict that can be written as database\n",
    "bw2_db = lci_to_bw2(my_db) # a function from the lci_to_bw2 module\n",
    "bw2_db"
   ]
  },
  {
   "cell_type": "code",
   "execution_count": 17,
   "metadata": {},
   "outputs": [
    {
     "data": {
      "text/plain": [
       "Databases dictionary with 3 object(s):\n",
       "\tbiosphere3\n",
       "\tecoinvent 3.6 conseq\n",
       "\texldb"
      ]
     },
     "execution_count": 17,
     "metadata": {},
     "output_type": "execute_result"
    }
   ],
   "source": [
    "bw.databases"
   ]
  },
  {
   "cell_type": "code",
   "execution_count": 18,
   "metadata": {},
   "outputs": [
    {
     "data": {
      "text/plain": [
       "Databases dictionary with 2 object(s):\n",
       "\tbiosphere3\n",
       "\tecoinvent 3.6 conseq"
      ]
     },
     "execution_count": 18,
     "metadata": {},
     "output_type": "execute_result"
    }
   ],
   "source": [
    "#our database is named exldb, in case this database already exists, we delete it\n",
    "if 'exldb' in bw.databases: del bw.databases['exldb']\n",
    "bw.databases"
   ]
  },
  {
   "cell_type": "code",
   "execution_count": 19,
   "metadata": {},
   "outputs": [
    {
     "name": "stderr",
     "output_type": "stream",
     "text": [
      "Writing activities to SQLite3 database:\n",
      "0% [#] 100% | ETA: 00:00:00\n",
      "Total time elapsed: 00:00:00\n"
     ]
    },
    {
     "name": "stdout",
     "output_type": "stream",
     "text": [
      "Title: Writing activities to SQLite3 database:\n",
      "  Started: 06/26/2020 11:00:58\n",
      "  Finished: 06/26/2020 11:00:58\n",
      "  Total time elapsed: 00:00:00\n",
      "  CPU %: 21.10\n",
      "  Memory %: 2.00\n"
     ]
    }
   ],
   "source": [
    "#writing the database onto the project\n",
    "t_db = bw.Database('exldb')\n",
    "t_db.write(bw2_db)"
   ]
  },
  {
   "cell_type": "code",
   "execution_count": 20,
   "metadata": {},
   "outputs": [
    {
     "name": "stdout",
     "output_type": "stream",
     "text": [
      "'Precast concrete production' (ton, None, None)\n",
      "---------\n",
      "'Precast concrete production' (ton, None, None) Exchange: 1.0 ton 'Precast concrete production' (ton, None, None) to 'Precast concrete production' (ton, None, None)>\n",
      "'Precast concrete production' (ton, None, None) Exchange: 168.5 kilogram 'market for cement, Portland' (kilogram, RoW, None) to 'Precast concrete production' (ton, None, None)>\n",
      "'Precast concrete production' (ton, None, None) Exchange: 7.0 kilogram 'market for limestone, crushed, for mill' (kilogram, RoW, None) to 'Precast concrete production' (ton, None, None)>\n",
      "'Precast concrete production' (ton, None, None) Exchange: 357.7 kilogram 'market for sand' (kilogram, RoW, None) to 'Precast concrete production' (ton, None, None)>\n",
      "'Precast concrete production' (ton, None, None) Exchange: 42.9 kilogram 'market for reinforcing steel' (kilogram, GLO, None) to 'Precast concrete production' (ton, None, None)>\n",
      "'Precast concrete production' (ton, None, None) Exchange: 0.052386228 kilogram 'market for polystyrene, expandable' (kilogram, GLO, None) to 'Precast concrete production' (ton, None, None)>\n",
      "'Precast concrete production' (ton, None, None) Exchange: 0.01061883 kilogram 'market for polystyrene, extruded' (kilogram, GLO, None) to 'Precast concrete production' (ton, None, None)>\n",
      "'Precast concrete production' (ton, None, None) Exchange: -59.4 kilogram 'Gravel, in ground' (kilogram, None, ('natural resource', 'in ground')) to 'Precast concrete production' (ton, None, None)>\n",
      "'Precast concrete production' (ton, None, None) Exchange: -0.3899 cubic meter 'Water' (cubic meter, None, ('water',)) to 'Precast concrete production' (ton, None, None)>\n",
      "---------\n",
      "{'uncertainty type': 0}\n",
      "{'uncertainty type': 0}\n",
      "{'uncertainty type': 0}\n",
      "{'uncertainty type': 0}\n",
      "{'uncertainty type': 0}\n",
      "{'uncertainty type': 0}\n",
      "{'uncertainty type': 0}\n",
      "{'uncertainty type': 0}\n",
      "{'uncertainty type': 0}\n"
     ]
    },
    {
     "data": {
      "text/plain": [
       "[[None, None, None, None, None, None, None, None, None]]"
      ]
     },
     "execution_count": 20,
     "metadata": {},
     "output_type": "execute_result"
    }
   ],
   "source": [
    "#check if everything worked (does it contain the original and alternate process?)\n",
    "[print(act) for act in t_db]  # check more stuff \n",
    "print('---------')\n",
    "[[print(act, exc) for exc in list(act.exchanges())]for act in t_db]  # check more stuff \n",
    "print('---------')\n",
    "[[print(exc.uncertainty) for exc in list(act.exchanges())]for act in t_db]  # check more stuff\n",
    "\n"
   ]
  },
  {
   "cell_type": "code",
   "execution_count": 21,
   "metadata": {},
   "outputs": [
    {
     "name": "stdout",
     "output_type": "stream",
     "text": [
      "328.6527129840726\n"
     ]
    }
   ],
   "source": [
    "mymethod = ('IPCC 2013', 'climate change', 'GWP 100a')\n",
    "pc = t_db.get(\"Precast concrete production\")\n",
    "functional_unit = {pc: 1}\n",
    "lca = bw.LCA(functional_unit, mymethod)\n",
    "lca.lci()\n",
    "lca.lcia()\n",
    "print(lca.score)"
   ]
  },
  {
   "cell_type": "code",
   "execution_count": 22,
   "metadata": {},
   "outputs": [],
   "source": [
    "import matplotlib.pyplot as plt"
   ]
  },
  {
   "cell_type": "code",
   "execution_count": 23,
   "metadata": {},
   "outputs": [
    {
     "data": {
      "text/plain": [
       "[Exchange: 1.0 ton 'Precast concrete production' (ton, None, None) to 'Precast concrete production' (ton, None, None)>,\n",
       " Exchange: 168.5 kilogram 'market for cement, Portland' (kilogram, RoW, None) to 'Precast concrete production' (ton, None, None)>,\n",
       " Exchange: 7.0 kilogram 'market for limestone, crushed, for mill' (kilogram, RoW, None) to 'Precast concrete production' (ton, None, None)>,\n",
       " Exchange: 357.7 kilogram 'market for sand' (kilogram, RoW, None) to 'Precast concrete production' (ton, None, None)>,\n",
       " Exchange: 42.9 kilogram 'market for reinforcing steel' (kilogram, GLO, None) to 'Precast concrete production' (ton, None, None)>,\n",
       " Exchange: 0.052386228 kilogram 'market for polystyrene, expandable' (kilogram, GLO, None) to 'Precast concrete production' (ton, None, None)>,\n",
       " Exchange: 0.01061883 kilogram 'market for polystyrene, extruded' (kilogram, GLO, None) to 'Precast concrete production' (ton, None, None)>,\n",
       " Exchange: -59.4 kilogram 'Gravel, in ground' (kilogram, None, ('natural resource', 'in ground')) to 'Precast concrete production' (ton, None, None)>,\n",
       " Exchange: -0.3899 cubic meter 'Water' (cubic meter, None, ('water',)) to 'Precast concrete production' (ton, None, None)>]"
      ]
     },
     "execution_count": 23,
     "metadata": {},
     "output_type": "execute_result"
    }
   ],
   "source": [
    "pc = t_db.get('Precast concrete production') \n",
    "list(pc.exchanges())"
   ]
  },
  {
   "cell_type": "code",
   "execution_count": 24,
   "metadata": {},
   "outputs": [
    {
     "data": {
      "text/plain": [
       "[Exchange: 1.0 ton 'Precast concrete production' (ton, None, None) to 'Precast concrete production' (ton, None, None)>,\n",
       " Exchange: 168.5 kilogram 'market for cement, Portland' (kilogram, RoW, None) to 'Precast concrete production' (ton, None, None)>,\n",
       " Exchange: 7.0 kilogram 'market for limestone, crushed, for mill' (kilogram, RoW, None) to 'Precast concrete production' (ton, None, None)>,\n",
       " Exchange: 357.7 kilogram 'market for sand' (kilogram, RoW, None) to 'Precast concrete production' (ton, None, None)>,\n",
       " Exchange: 42.9 kilogram 'market for reinforcing steel' (kilogram, GLO, None) to 'Precast concrete production' (ton, None, None)>,\n",
       " Exchange: 0.052386228 kilogram 'market for polystyrene, expandable' (kilogram, GLO, None) to 'Precast concrete production' (ton, None, None)>,\n",
       " Exchange: 0.01061883 kilogram 'market for polystyrene, extruded' (kilogram, GLO, None) to 'Precast concrete production' (ton, None, None)>,\n",
       " Exchange: -59.4 kilogram 'Gravel, in ground' (kilogram, None, ('natural resource', 'in ground')) to 'Precast concrete production' (ton, None, None)>,\n",
       " Exchange: -0.3899 cubic meter 'Water' (cubic meter, None, ('water',)) to 'Precast concrete production' (ton, None, None)>]"
      ]
     },
     "execution_count": 24,
     "metadata": {},
     "output_type": "execute_result"
    }
   ],
   "source": [
    "pc = t_db.get('Precast concrete production') \n",
    "list(pc.exchanges())"
   ]
  },
  {
   "cell_type": "code",
   "execution_count": 25,
   "metadata": {},
   "outputs": [
    {
     "data": {
      "text/plain": [
       "Exchange: 168.5 kilogram 'market for cement, Portland' (kilogram, RoW, None) to 'Precast concrete production' (ton, None, None)>"
      ]
     },
     "execution_count": 25,
     "metadata": {},
     "output_type": "execute_result"
    }
   ],
   "source": [
    "cem_exc = list(pc.exchanges())[1]   # the second exchange = cement production\n",
    "cem_exc"
   ]
  },
  {
   "cell_type": "code",
   "execution_count": 26,
   "metadata": {},
   "outputs": [],
   "source": [
    "# Lognormal distribution first\n",
    "from stats_arrays import LognormalUncertainty\n",
    "import numpy as np\n",
    "cem_exc['uncertainty type'] = LognormalUncertainty.id # this is an integer (not a float)\n",
    "cem_exc['loc'], cem_exc['scale'] = np.log(cem_exc['amount']), np.log(1.01) \n",
    "'''The lognorm dist is defined here two parameters: location and scale \n",
    "i.e. by the log of the geometric mean and by the geometric standard dev'''\n",
    "cem_exc.save() # important"
   ]
  },
  {
   "cell_type": "code",
   "execution_count": 27,
   "metadata": {},
   "outputs": [
    {
     "data": {
      "text/plain": [
       "{'uncertainty type': 2,\n",
       " 'loc': 5.126935749792416,\n",
       " 'scale': 0.009950330853168092}"
      ]
     },
     "execution_count": 27,
     "metadata": {},
     "output_type": "execute_result"
    }
   ],
   "source": [
    "cem_exc.uncertainty"
   ]
  },
  {
   "cell_type": "code",
   "execution_count": 28,
   "metadata": {},
   "outputs": [
    {
     "data": {
      "text/plain": [
       "{'input': ('ecoinvent 3.6 conseq', '0a3b786bbd504c44b80c8ec48a53738d'),\n",
       " 'amount': 168.5,\n",
       " 'unit': 'kilogram',\n",
       " 'type': 'technosphere',\n",
       " 'uncertainty type': 2,\n",
       " 'output': ('exldb', 'Precast concrete production'),\n",
       " 'loc': 5.126935749792416,\n",
       " 'scale': 0.009950330853168092}"
      ]
     },
     "execution_count": 28,
     "metadata": {},
     "output_type": "execute_result"
    }
   ],
   "source": [
    "cem_exc.as_dict()  # Now uncertainty is included"
   ]
  },
  {
   "cell_type": "code",
   "execution_count": 29,
   "metadata": {},
   "outputs": [
    {
     "data": {
      "text/plain": [
       "(array([  1.,   5.,  24.,  95., 208., 310., 217., 102.,  34.,   4.]),\n",
       " array([161.68022398, 162.90693366, 164.13364334, 165.36035301,\n",
       "        166.58706269, 167.81377237, 169.04048205, 170.26719173,\n",
       "        171.4939014 , 172.72061108, 173.94732076]),\n",
       " <a list of 10 Patch objects>)"
      ]
     },
     "execution_count": 29,
     "metadata": {},
     "output_type": "execute_result"
    },
    {
     "data": {
      "image/png": "[encoded data removed]",
      "text/plain": [
       "<Figure size 432x288 with 1 Axes>"
      ]
     },
     "metadata": {
      "needs_background": "light"
     },
     "output_type": "display_data"
    }
   ],
   "source": [
    "%matplotlib inline\n",
    "plt.hist(cem_exc.random_sample(n=1000))"
   ]
  },
  {
   "cell_type": "code",
   "execution_count": null,
   "metadata": {},
   "outputs": [],
   "source": []
  }
 ],
 "metadata": {
  "kernelspec": {
   "display_name": "Python 3",
   "language": "python",
   "name": "python3"
  },
  "language_info": {
   "codemirror_mode": {
    "name": "ipython",
    "version": 3
   },
   "file_extension": ".py",
   "mimetype": "text/x-python",
   "name": "python",
   "nbconvert_exporter": "python",
   "pygments_lexer": "ipython3",
   "version": "3.6.10"
  }
 },
 "nbformat": 4,
 "nbformat_minor": 4
}
